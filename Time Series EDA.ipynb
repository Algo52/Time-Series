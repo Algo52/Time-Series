{
 "cells": [
  {
   "cell_type": "code",
   "execution_count": 1,
   "id": "04db73c7",
   "metadata": {},
   "outputs": [
    {
     "name": "stdout",
     "output_type": "stream",
     "text": [
      "Collecting pandas-datareader\n",
      "  Downloading pandas_datareader-0.10.0-py3-none-any.whl (109 kB)\n",
      "Requirement already satisfied: pandas>=0.23 in c:\\users\\hemanth\\anaconda3\\lib\\site-packages (from pandas-datareader) (1.3.4)\n",
      "Requirement already satisfied: requests>=2.19.0 in c:\\users\\hemanth\\anaconda3\\lib\\site-packages (from pandas-datareader) (2.26.0)\n",
      "Requirement already satisfied: lxml in c:\\users\\hemanth\\anaconda3\\lib\\site-packages (from pandas-datareader) (4.6.3)\n",
      "Requirement already satisfied: numpy>=1.17.3 in c:\\users\\hemanth\\anaconda3\\lib\\site-packages (from pandas>=0.23->pandas-datareader) (1.20.3)\n",
      "Requirement already satisfied: python-dateutil>=2.7.3 in c:\\users\\hemanth\\anaconda3\\lib\\site-packages (from pandas>=0.23->pandas-datareader) (2.8.2)\n",
      "Requirement already satisfied: pytz>=2017.3 in c:\\users\\hemanth\\anaconda3\\lib\\site-packages (from pandas>=0.23->pandas-datareader) (2021.3)\n",
      "Requirement already satisfied: six>=1.5 in c:\\users\\hemanth\\anaconda3\\lib\\site-packages (from python-dateutil>=2.7.3->pandas>=0.23->pandas-datareader) (1.16.0)\n",
      "Requirement already satisfied: urllib3<1.27,>=1.21.1 in c:\\users\\hemanth\\anaconda3\\lib\\site-packages (from requests>=2.19.0->pandas-datareader) (1.26.7)\n",
      "Requirement already satisfied: idna<4,>=2.5 in c:\\users\\hemanth\\anaconda3\\lib\\site-packages (from requests>=2.19.0->pandas-datareader) (3.2)\n",
      "Requirement already satisfied: charset-normalizer~=2.0.0 in c:\\users\\hemanth\\anaconda3\\lib\\site-packages (from requests>=2.19.0->pandas-datareader) (2.0.4)\n",
      "Requirement already satisfied: certifi>=2017.4.17 in c:\\users\\hemanth\\anaconda3\\lib\\site-packages (from requests>=2.19.0->pandas-datareader) (2021.10.8)\n",
      "Installing collected packages: pandas-datareader\n",
      "Successfully installed pandas-datareader-0.10.0\n"
     ]
    }
   ],
   "source": [
    "##install pandas data reader\n",
    "!pip install pandas-datareader"
   ]
  },
  {
   "cell_type": "code",
   "execution_count": 35,
   "id": "58bbc81e",
   "metadata": {},
   "outputs": [],
   "source": [
    "import pandas_datareader as pdr\n",
    "import pandas as pd\n",
    "from datetime import datetime\n",
    "import matplotlib.pyplot as plt\n",
    "%matplotlib inline"
   ]
  },
  {
   "cell_type": "code",
   "execution_count": 6,
   "id": "f074f1a2",
   "metadata": {},
   "outputs": [],
   "source": [
    "df_tesla=pdr.get_data_yahoo('TSLA')"
   ]
  },
  {
   "cell_type": "code",
   "execution_count": 7,
   "id": "2749cc93",
   "metadata": {},
   "outputs": [
    {
     "data": {
      "text/plain": [
       "pandas.core.frame.DataFrame"
      ]
     },
     "execution_count": 7,
     "metadata": {},
     "output_type": "execute_result"
    }
   ],
   "source": [
    "type(df_tesla)"
   ]
  },
  {
   "cell_type": "code",
   "execution_count": 10,
   "id": "d902274e",
   "metadata": {},
   "outputs": [
    {
     "data": {
      "text/html": [
       "<div>\n",
       "<style scoped>\n",
       "    .dataframe tbody tr th:only-of-type {\n",
       "        vertical-align: middle;\n",
       "    }\n",
       "\n",
       "    .dataframe tbody tr th {\n",
       "        vertical-align: top;\n",
       "    }\n",
       "\n",
       "    .dataframe thead th {\n",
       "        text-align: right;\n",
       "    }\n",
       "</style>\n",
       "<table border=\"1\" class=\"dataframe\">\n",
       "  <thead>\n",
       "    <tr style=\"text-align: right;\">\n",
       "      <th></th>\n",
       "      <th>High</th>\n",
       "      <th>Low</th>\n",
       "      <th>Open</th>\n",
       "      <th>Close</th>\n",
       "      <th>Volume</th>\n",
       "      <th>Adj Close</th>\n",
       "    </tr>\n",
       "    <tr>\n",
       "      <th>Date</th>\n",
       "      <th></th>\n",
       "      <th></th>\n",
       "      <th></th>\n",
       "      <th></th>\n",
       "      <th></th>\n",
       "      <th></th>\n",
       "    </tr>\n",
       "  </thead>\n",
       "  <tbody>\n",
       "    <tr>\n",
       "      <th>2017-02-27</th>\n",
       "      <td>137.179993</td>\n",
       "      <td>135.020004</td>\n",
       "      <td>135.259995</td>\n",
       "      <td>136.410004</td>\n",
       "      <td>14306700</td>\n",
       "      <td>136.410004</td>\n",
       "    </tr>\n",
       "    <tr>\n",
       "      <th>2017-02-28</th>\n",
       "      <td>136.809998</td>\n",
       "      <td>134.750000</td>\n",
       "      <td>136.789993</td>\n",
       "      <td>135.539993</td>\n",
       "      <td>16112100</td>\n",
       "      <td>135.539993</td>\n",
       "    </tr>\n",
       "    <tr>\n",
       "      <th>2017-03-01</th>\n",
       "      <td>137.479996</td>\n",
       "      <td>136.300003</td>\n",
       "      <td>136.470001</td>\n",
       "      <td>137.419998</td>\n",
       "      <td>16257000</td>\n",
       "      <td>137.419998</td>\n",
       "    </tr>\n",
       "    <tr>\n",
       "      <th>2017-03-02</th>\n",
       "      <td>137.820007</td>\n",
       "      <td>136.309998</td>\n",
       "      <td>137.089996</td>\n",
       "      <td>136.759995</td>\n",
       "      <td>12294800</td>\n",
       "      <td>136.759995</td>\n",
       "    </tr>\n",
       "    <tr>\n",
       "      <th>2017-03-03</th>\n",
       "      <td>137.330002</td>\n",
       "      <td>136.080002</td>\n",
       "      <td>136.630005</td>\n",
       "      <td>137.169998</td>\n",
       "      <td>11160600</td>\n",
       "      <td>137.169998</td>\n",
       "    </tr>\n",
       "    <tr>\n",
       "      <th>...</th>\n",
       "      <td>...</td>\n",
       "      <td>...</td>\n",
       "      <td>...</td>\n",
       "      <td>...</td>\n",
       "      <td>...</td>\n",
       "      <td>...</td>\n",
       "    </tr>\n",
       "    <tr>\n",
       "      <th>2022-02-18</th>\n",
       "      <td>210.750000</td>\n",
       "      <td>205.179993</td>\n",
       "      <td>209.389999</td>\n",
       "      <td>206.160004</td>\n",
       "      <td>37049400</td>\n",
       "      <td>206.160004</td>\n",
       "    </tr>\n",
       "    <tr>\n",
       "      <th>2022-02-22</th>\n",
       "      <td>207.479996</td>\n",
       "      <td>200.059998</td>\n",
       "      <td>202.339996</td>\n",
       "      <td>202.080002</td>\n",
       "      <td>39852400</td>\n",
       "      <td>202.080002</td>\n",
       "    </tr>\n",
       "    <tr>\n",
       "      <th>2022-02-23</th>\n",
       "      <td>206.940002</td>\n",
       "      <td>198.050003</td>\n",
       "      <td>204.160004</td>\n",
       "      <td>198.449997</td>\n",
       "      <td>44481400</td>\n",
       "      <td>198.449997</td>\n",
       "    </tr>\n",
       "    <tr>\n",
       "      <th>2022-02-24</th>\n",
       "      <td>208.350006</td>\n",
       "      <td>190.220001</td>\n",
       "      <td>191.059998</td>\n",
       "      <td>207.600006</td>\n",
       "      <td>49783200</td>\n",
       "      <td>207.600006</td>\n",
       "    </tr>\n",
       "    <tr>\n",
       "      <th>2022-02-25</th>\n",
       "      <td>211.320007</td>\n",
       "      <td>203.179993</td>\n",
       "      <td>204.940002</td>\n",
       "      <td>210.009995</td>\n",
       "      <td>17973370</td>\n",
       "      <td>210.009995</td>\n",
       "    </tr>\n",
       "  </tbody>\n",
       "</table>\n",
       "<p>1260 rows × 6 columns</p>\n",
       "</div>"
      ],
      "text/plain": [
       "                  High         Low        Open       Close    Volume  \\\n",
       "Date                                                                   \n",
       "2017-02-27  137.179993  135.020004  135.259995  136.410004  14306700   \n",
       "2017-02-28  136.809998  134.750000  136.789993  135.539993  16112100   \n",
       "2017-03-01  137.479996  136.300003  136.470001  137.419998  16257000   \n",
       "2017-03-02  137.820007  136.309998  137.089996  136.759995  12294800   \n",
       "2017-03-03  137.330002  136.080002  136.630005  137.169998  11160600   \n",
       "...                ...         ...         ...         ...       ...   \n",
       "2022-02-18  210.750000  205.179993  209.389999  206.160004  37049400   \n",
       "2022-02-22  207.479996  200.059998  202.339996  202.080002  39852400   \n",
       "2022-02-23  206.940002  198.050003  204.160004  198.449997  44481400   \n",
       "2022-02-24  208.350006  190.220001  191.059998  207.600006  49783200   \n",
       "2022-02-25  211.320007  203.179993  204.940002  210.009995  17973370   \n",
       "\n",
       "             Adj Close  \n",
       "Date                    \n",
       "2017-02-27  136.410004  \n",
       "2017-02-28  135.539993  \n",
       "2017-03-01  137.419998  \n",
       "2017-03-02  136.759995  \n",
       "2017-03-03  137.169998  \n",
       "...                ...  \n",
       "2022-02-18  206.160004  \n",
       "2022-02-22  202.080002  \n",
       "2022-02-23  198.449997  \n",
       "2022-02-24  207.600006  \n",
       "2022-02-25  210.009995  \n",
       "\n",
       "[1260 rows x 6 columns]"
      ]
     },
     "execution_count": 10,
     "metadata": {},
     "output_type": "execute_result"
    }
   ],
   "source": [
    "pdr.get_data_yahoo('FB')"
   ]
  },
  {
   "cell_type": "code",
   "execution_count": 8,
   "id": "047eda1c",
   "metadata": {},
   "outputs": [
    {
     "data": {
      "text/html": [
       "<div>\n",
       "<style scoped>\n",
       "    .dataframe tbody tr th:only-of-type {\n",
       "        vertical-align: middle;\n",
       "    }\n",
       "\n",
       "    .dataframe tbody tr th {\n",
       "        vertical-align: top;\n",
       "    }\n",
       "\n",
       "    .dataframe thead th {\n",
       "        text-align: right;\n",
       "    }\n",
       "</style>\n",
       "<table border=\"1\" class=\"dataframe\">\n",
       "  <thead>\n",
       "    <tr style=\"text-align: right;\">\n",
       "      <th></th>\n",
       "      <th>High</th>\n",
       "      <th>Low</th>\n",
       "      <th>Open</th>\n",
       "      <th>Close</th>\n",
       "      <th>Volume</th>\n",
       "      <th>Adj Close</th>\n",
       "    </tr>\n",
       "    <tr>\n",
       "      <th>Date</th>\n",
       "      <th></th>\n",
       "      <th></th>\n",
       "      <th></th>\n",
       "      <th></th>\n",
       "      <th></th>\n",
       "      <th></th>\n",
       "    </tr>\n",
       "  </thead>\n",
       "  <tbody>\n",
       "    <tr>\n",
       "      <th>2022-02-18</th>\n",
       "      <td>886.869995</td>\n",
       "      <td>837.609985</td>\n",
       "      <td>886.000000</td>\n",
       "      <td>856.979980</td>\n",
       "      <td>22710500.0</td>\n",
       "      <td>856.979980</td>\n",
       "    </tr>\n",
       "    <tr>\n",
       "      <th>2022-02-22</th>\n",
       "      <td>856.729980</td>\n",
       "      <td>801.099976</td>\n",
       "      <td>834.130005</td>\n",
       "      <td>821.530029</td>\n",
       "      <td>27762700.0</td>\n",
       "      <td>821.530029</td>\n",
       "    </tr>\n",
       "    <tr>\n",
       "      <th>2022-02-23</th>\n",
       "      <td>835.299988</td>\n",
       "      <td>760.559998</td>\n",
       "      <td>830.429993</td>\n",
       "      <td>764.039978</td>\n",
       "      <td>31752300.0</td>\n",
       "      <td>764.039978</td>\n",
       "    </tr>\n",
       "    <tr>\n",
       "      <th>2022-02-24</th>\n",
       "      <td>802.479980</td>\n",
       "      <td>700.000000</td>\n",
       "      <td>700.390015</td>\n",
       "      <td>800.770020</td>\n",
       "      <td>44876700.0</td>\n",
       "      <td>800.770020</td>\n",
       "    </tr>\n",
       "    <tr>\n",
       "      <th>2022-02-25</th>\n",
       "      <td>819.460815</td>\n",
       "      <td>782.400513</td>\n",
       "      <td>809.229980</td>\n",
       "      <td>814.400024</td>\n",
       "      <td>14563554.0</td>\n",
       "      <td>814.400024</td>\n",
       "    </tr>\n",
       "  </tbody>\n",
       "</table>\n",
       "</div>"
      ],
      "text/plain": [
       "                  High         Low        Open       Close      Volume  \\\n",
       "Date                                                                     \n",
       "2022-02-18  886.869995  837.609985  886.000000  856.979980  22710500.0   \n",
       "2022-02-22  856.729980  801.099976  834.130005  821.530029  27762700.0   \n",
       "2022-02-23  835.299988  760.559998  830.429993  764.039978  31752300.0   \n",
       "2022-02-24  802.479980  700.000000  700.390015  800.770020  44876700.0   \n",
       "2022-02-25  819.460815  782.400513  809.229980  814.400024  14563554.0   \n",
       "\n",
       "             Adj Close  \n",
       "Date                    \n",
       "2022-02-18  856.979980  \n",
       "2022-02-22  821.530029  \n",
       "2022-02-23  764.039978  \n",
       "2022-02-24  800.770020  \n",
       "2022-02-25  814.400024  "
      ]
     },
     "execution_count": 8,
     "metadata": {},
     "output_type": "execute_result"
    }
   ],
   "source": [
    "df_tesla.tail()"
   ]
  },
  {
   "cell_type": "code",
   "execution_count": 11,
   "id": "c27ff334",
   "metadata": {},
   "outputs": [
    {
     "data": {
      "text/plain": [
       "<AxesSubplot:xlabel='Date'>"
      ]
     },
     "execution_count": 11,
     "metadata": {},
     "output_type": "execute_result"
    },
    {
     "data": {
      "image/png": "[encoded data removed]",
      "text/plain": [
       "<Figure size 432x288 with 1 Axes>"
      ]
     },
     "metadata": {
      "needs_background": "light"
     },
     "output_type": "display_data"
    }
   ],
   "source": [
    "df_tesla.plot()"
   ]
  },
  {
   "cell_type": "code",
   "execution_count": 13,
   "id": "bae72394",
   "metadata": {},
   "outputs": [
    {
     "data": {
      "text/plain": [
       "<AxesSubplot:xlabel='Date'>"
      ]
     },
     "execution_count": 13,
     "metadata": {},
     "output_type": "execute_result"
    },
    {
     "data": {
      "image/png": "[encoded data removed]",
      "text/plain": [
       "<Figure size 864x288 with 1 Axes>"
      ]
     },
     "metadata": {
      "needs_background": "light"
     },
     "output_type": "display_data"
    }
   ],
   "source": [
    "df_tesla['High'].plot(figsize=(12,4))"
   ]
  },
  {
   "cell_type": "code",
   "execution_count": 14,
   "id": "f757c748",
   "metadata": {},
   "outputs": [
    {
     "data": {
      "text/plain": [
       "<AxesSubplot:xlabel='Date'>"
      ]
     },
     "execution_count": 14,
     "metadata": {},
     "output_type": "execute_result"
    },
    {
     "data": {
      "image/png": "[encoded data removed]",
      "text/plain": [
       "<Figure size 864x288 with 1 Axes>"
      ]
     },
     "metadata": {
      "needs_background": "light"
     },
     "output_type": "display_data"
    }
   ],
   "source": [
    "## i want data from 2020\n",
    "## xlimit and ylimit\n",
    "df_tesla['High'].plot(xlim=['2020-01-01','2021-01-01'],figsize=(12,4))"
   ]
  },
  {
   "cell_type": "code",
   "execution_count": 15,
   "id": "f81d8c71",
   "metadata": {},
   "outputs": [
    {
     "data": {
      "text/plain": [
       "<AxesSubplot:xlabel='Date'>"
      ]
     },
     "execution_count": 15,
     "metadata": {},
     "output_type": "execute_result"
    },
    {
     "data": {
      "image/png": "[encoded data removed]",
      "text/plain": [
       "<Figure size 864x288 with 1 Axes>"
      ]
     },
     "metadata": {
      "needs_background": "light"
     },
     "output_type": "display_data"
    }
   ],
   "source": [
    "## xlimit and ylimit\n",
    "df_tesla['High'].plot(xlim=['2020-01-01','2021-01-01'],ylim=[0,900],figsize=(12,4))"
   ]
  },
  {
   "cell_type": "code",
   "execution_count": 17,
   "id": "5957cbc6",
   "metadata": {},
   "outputs": [
    {
     "data": {
      "text/plain": [
       "<AxesSubplot:xlabel='Date'>"
      ]
     },
     "execution_count": 17,
     "metadata": {},
     "output_type": "execute_result"
    },
    {
     "data": {
      "image/png": "[encoded data removed]",
      "text/plain": [
       "<Figure size 864x288 with 1 Axes>"
      ]
     },
     "metadata": {
      "needs_background": "light"
     },
     "output_type": "display_data"
    }
   ],
   "source": [
    "## xlimit and ylimit and coloring\n",
    "df_tesla['High'].plot(xlim=['2020-01-01','2021-01-01'],ylim=[0,900],figsize=(12,4),c='red')"
   ]
  },
  {
   "cell_type": "code",
   "execution_count": 23,
   "id": "5ce627ce",
   "metadata": {},
   "outputs": [
    {
     "data": {
      "text/plain": [
       "<AxesSubplot:xlabel='Date'>"
      ]
     },
     "execution_count": 23,
     "metadata": {},
     "output_type": "execute_result"
    },
    {
     "data": {
      "image/png": "[encoded data removed]",
      "text/plain": [
       "<Figure size 864x288 with 1 Axes>"
      ]
     },
     "metadata": {
      "needs_background": "light"
     },
     "output_type": "display_data"
    }
   ],
   "source": [
    "## xlimit and ylimit and coloring and line style also\n",
    "df_tesla['High'].plot(xlim=['2020-01-01','2021-01-01'],ylim=[0,900],figsize=(12,4),c='red',ls=\"--\")"
   ]
  },
  {
   "cell_type": "code",
   "execution_count": 25,
   "id": "5db39dfd",
   "metadata": {},
   "outputs": [
    {
     "data": {
      "text/plain": [
       "DatetimeIndex(['2017-02-27', '2017-02-28', '2017-03-01', '2017-03-02',\n",
       "               '2017-03-03', '2017-03-06', '2017-03-07', '2017-03-08',\n",
       "               '2017-03-09', '2017-03-10',\n",
       "               ...\n",
       "               '2022-02-11', '2022-02-14', '2022-02-15', '2022-02-16',\n",
       "               '2022-02-17', '2022-02-18', '2022-02-22', '2022-02-23',\n",
       "               '2022-02-24', '2022-02-25'],\n",
       "              dtype='datetime64[ns]', name='Date', length=1260, freq=None)"
      ]
     },
     "execution_count": 25,
     "metadata": {},
     "output_type": "execute_result"
    }
   ],
   "source": [
    "df_tesla.index"
   ]
  },
  {
   "cell_type": "code",
   "execution_count": 26,
   "id": "b76edf21",
   "metadata": {},
   "outputs": [
    {
     "data": {
      "text/html": [
       "<div>\n",
       "<style scoped>\n",
       "    .dataframe tbody tr th:only-of-type {\n",
       "        vertical-align: middle;\n",
       "    }\n",
       "\n",
       "    .dataframe tbody tr th {\n",
       "        vertical-align: top;\n",
       "    }\n",
       "\n",
       "    .dataframe thead th {\n",
       "        text-align: right;\n",
       "    }\n",
       "</style>\n",
       "<table border=\"1\" class=\"dataframe\">\n",
       "  <thead>\n",
       "    <tr style=\"text-align: right;\">\n",
       "      <th></th>\n",
       "      <th>Date</th>\n",
       "      <th>High</th>\n",
       "      <th>Low</th>\n",
       "      <th>Open</th>\n",
       "      <th>Close</th>\n",
       "      <th>Volume</th>\n",
       "      <th>Adj Close</th>\n",
       "    </tr>\n",
       "  </thead>\n",
       "  <tbody>\n",
       "    <tr>\n",
       "      <th>0</th>\n",
       "      <td>2017-02-27</td>\n",
       "      <td>49.672001</td>\n",
       "      <td>48.402000</td>\n",
       "      <td>49.633999</td>\n",
       "      <td>49.245998</td>\n",
       "      <td>57304000.0</td>\n",
       "      <td>49.245998</td>\n",
       "    </tr>\n",
       "    <tr>\n",
       "      <th>1</th>\n",
       "      <td>2017-02-28</td>\n",
       "      <td>50.200001</td>\n",
       "      <td>48.779999</td>\n",
       "      <td>48.838001</td>\n",
       "      <td>49.998001</td>\n",
       "      <td>30390500.0</td>\n",
       "      <td>49.998001</td>\n",
       "    </tr>\n",
       "    <tr>\n",
       "      <th>2</th>\n",
       "      <td>2017-03-01</td>\n",
       "      <td>50.970001</td>\n",
       "      <td>49.821999</td>\n",
       "      <td>50.835999</td>\n",
       "      <td>50.004002</td>\n",
       "      <td>24047500.0</td>\n",
       "      <td>50.004002</td>\n",
       "    </tr>\n",
       "    <tr>\n",
       "      <th>3</th>\n",
       "      <td>2017-03-02</td>\n",
       "      <td>50.655998</td>\n",
       "      <td>49.653999</td>\n",
       "      <td>49.942001</td>\n",
       "      <td>50.096001</td>\n",
       "      <td>16759000.0</td>\n",
       "      <td>50.096001</td>\n",
       "    </tr>\n",
       "    <tr>\n",
       "      <th>4</th>\n",
       "      <td>2017-03-03</td>\n",
       "      <td>50.380001</td>\n",
       "      <td>49.799999</td>\n",
       "      <td>50.147999</td>\n",
       "      <td>50.313999</td>\n",
       "      <td>14597000.0</td>\n",
       "      <td>50.313999</td>\n",
       "    </tr>\n",
       "    <tr>\n",
       "      <th>...</th>\n",
       "      <td>...</td>\n",
       "      <td>...</td>\n",
       "      <td>...</td>\n",
       "      <td>...</td>\n",
       "      <td>...</td>\n",
       "      <td>...</td>\n",
       "      <td>...</td>\n",
       "    </tr>\n",
       "    <tr>\n",
       "      <th>1255</th>\n",
       "      <td>2022-02-18</td>\n",
       "      <td>886.869995</td>\n",
       "      <td>837.609985</td>\n",
       "      <td>886.000000</td>\n",
       "      <td>856.979980</td>\n",
       "      <td>22710500.0</td>\n",
       "      <td>856.979980</td>\n",
       "    </tr>\n",
       "    <tr>\n",
       "      <th>1256</th>\n",
       "      <td>2022-02-22</td>\n",
       "      <td>856.729980</td>\n",
       "      <td>801.099976</td>\n",
       "      <td>834.130005</td>\n",
       "      <td>821.530029</td>\n",
       "      <td>27762700.0</td>\n",
       "      <td>821.530029</td>\n",
       "    </tr>\n",
       "    <tr>\n",
       "      <th>1257</th>\n",
       "      <td>2022-02-23</td>\n",
       "      <td>835.299988</td>\n",
       "      <td>760.559998</td>\n",
       "      <td>830.429993</td>\n",
       "      <td>764.039978</td>\n",
       "      <td>31752300.0</td>\n",
       "      <td>764.039978</td>\n",
       "    </tr>\n",
       "    <tr>\n",
       "      <th>1258</th>\n",
       "      <td>2022-02-24</td>\n",
       "      <td>802.479980</td>\n",
       "      <td>700.000000</td>\n",
       "      <td>700.390015</td>\n",
       "      <td>800.770020</td>\n",
       "      <td>44876700.0</td>\n",
       "      <td>800.770020</td>\n",
       "    </tr>\n",
       "    <tr>\n",
       "      <th>1259</th>\n",
       "      <td>2022-02-25</td>\n",
       "      <td>819.460815</td>\n",
       "      <td>782.400513</td>\n",
       "      <td>809.229980</td>\n",
       "      <td>814.400024</td>\n",
       "      <td>14563554.0</td>\n",
       "      <td>814.400024</td>\n",
       "    </tr>\n",
       "  </tbody>\n",
       "</table>\n",
       "<p>1260 rows × 7 columns</p>\n",
       "</div>"
      ],
      "text/plain": [
       "           Date        High         Low        Open       Close      Volume  \\\n",
       "0    2017-02-27   49.672001   48.402000   49.633999   49.245998  57304000.0   \n",
       "1    2017-02-28   50.200001   48.779999   48.838001   49.998001  30390500.0   \n",
       "2    2017-03-01   50.970001   49.821999   50.835999   50.004002  24047500.0   \n",
       "3    2017-03-02   50.655998   49.653999   49.942001   50.096001  16759000.0   \n",
       "4    2017-03-03   50.380001   49.799999   50.147999   50.313999  14597000.0   \n",
       "...         ...         ...         ...         ...         ...         ...   \n",
       "1255 2022-02-18  886.869995  837.609985  886.000000  856.979980  22710500.0   \n",
       "1256 2022-02-22  856.729980  801.099976  834.130005  821.530029  27762700.0   \n",
       "1257 2022-02-23  835.299988  760.559998  830.429993  764.039978  31752300.0   \n",
       "1258 2022-02-24  802.479980  700.000000  700.390015  800.770020  44876700.0   \n",
       "1259 2022-02-25  819.460815  782.400513  809.229980  814.400024  14563554.0   \n",
       "\n",
       "       Adj Close  \n",
       "0      49.245998  \n",
       "1      49.998001  \n",
       "2      50.004002  \n",
       "3      50.096001  \n",
       "4      50.313999  \n",
       "...          ...  \n",
       "1255  856.979980  \n",
       "1256  821.530029  \n",
       "1257  764.039978  \n",
       "1258  800.770020  \n",
       "1259  814.400024  \n",
       "\n",
       "[1260 rows x 7 columns]"
      ]
     },
     "execution_count": 26,
     "metadata": {},
     "output_type": "execute_result"
    }
   ],
   "source": [
    "df_tesla.reset_index()"
   ]
  },
  {
   "cell_type": "code",
   "execution_count": 40,
   "id": "4b81d801",
   "metadata": {},
   "outputs": [],
   "source": [
    "## we use loc to catch excet data \n",
    "index=df_tesla.loc['2020-02-24':'2022-02-25'].index\n",
    "share_open=df_tesla.loc['2020-02-24':'2022-02-25']['Open']"
   ]
  },
  {
   "cell_type": "code",
   "execution_count": 41,
   "id": "5cd0b205",
   "metadata": {},
   "outputs": [
    {
     "data": {
      "text/plain": [
       "Date\n",
       "2020-02-24    167.800003\n",
       "2020-02-25    169.800003\n",
       "2020-02-26    156.500000\n",
       "2020-02-27    146.000000\n",
       "2020-02-28    125.940002\n",
       "                 ...    \n",
       "2022-02-18    886.000000\n",
       "2022-02-22    834.130005\n",
       "2022-02-23    830.429993\n",
       "2022-02-24    700.390015\n",
       "2022-02-25    809.229980\n",
       "Name: Open, Length: 508, dtype: float64"
      ]
     },
     "execution_count": 41,
     "metadata": {},
     "output_type": "execute_result"
    }
   ],
   "source": [
    "##here we getting share open price\n",
    "share_open"
   ]
  },
  {
   "cell_type": "code",
   "execution_count": 42,
   "id": "6c9ac41d",
   "metadata": {},
   "outputs": [
    {
     "data": {
      "text/plain": [
       "DatetimeIndex(['2020-02-24', '2020-02-25', '2020-02-26', '2020-02-27',\n",
       "               '2020-02-28', '2020-03-02', '2020-03-03', '2020-03-04',\n",
       "               '2020-03-05', '2020-03-06',\n",
       "               ...\n",
       "               '2022-02-11', '2022-02-14', '2022-02-15', '2022-02-16',\n",
       "               '2022-02-17', '2022-02-18', '2022-02-22', '2022-02-23',\n",
       "               '2022-02-24', '2022-02-25'],\n",
       "              dtype='datetime64[ns]', name='Date', length=508, freq=None)"
      ]
     },
     "execution_count": 42,
     "metadata": {},
     "output_type": "execute_result"
    }
   ],
   "source": [
    "## here we getting index means date of that openprice\n",
    "index"
   ]
  },
  {
   "cell_type": "code",
   "execution_count": 43,
   "id": "ffd60fb3",
   "metadata": {},
   "outputs": [
    {
     "data": {
      "text/plain": [
       "[<matplotlib.lines.Line2D at 0x2832a4064f0>]"
      ]
     },
     "execution_count": 43,
     "metadata": {},
     "output_type": "execute_result"
    },
    {
     "data": {
      "image/png": "[encoded data removed]",
      "text/plain": [
       "<Figure size 432x288 with 1 Axes>"
      ]
     },
     "metadata": {
      "needs_background": "light"
     },
     "output_type": "display_data"
    }
   ],
   "source": [
    "figure,axis=plt.subplots()\n",
    "plt.tight_layout()\n",
    "## this will privent overlapping\n",
    "figure.autofmt_xdate()\n",
    "axis.plot(index,share_open)"
   ]
  },
  {
   "cell_type": "code",
   "execution_count": 44,
   "id": "d71ee481",
   "metadata": {},
   "outputs": [],
   "source": [
    "## Date time Index"
   ]
  },
  {
   "cell_type": "code",
   "execution_count": 47,
   "id": "bec3f512",
   "metadata": {},
   "outputs": [],
   "source": [
    "df_tesla=df_tesla.reset_index()"
   ]
  },
  {
   "cell_type": "code",
   "execution_count": 48,
   "id": "23fd3901",
   "metadata": {},
   "outputs": [
    {
     "name": "stdout",
     "output_type": "stream",
     "text": [
      "<class 'pandas.core.frame.DataFrame'>\n",
      "RangeIndex: 1260 entries, 0 to 1259\n",
      "Data columns (total 7 columns):\n",
      " #   Column     Non-Null Count  Dtype         \n",
      "---  ------     --------------  -----         \n",
      " 0   Date       1260 non-null   datetime64[ns]\n",
      " 1   High       1260 non-null   float64       \n",
      " 2   Low        1260 non-null   float64       \n",
      " 3   Open       1260 non-null   float64       \n",
      " 4   Close      1260 non-null   float64       \n",
      " 5   Volume     1260 non-null   float64       \n",
      " 6   Adj Close  1260 non-null   float64       \n",
      "dtypes: datetime64[ns](1), float64(6)\n",
      "memory usage: 69.0 KB\n"
     ]
    }
   ],
   "source": [
    "df_tesla.info()"
   ]
  },
  {
   "cell_type": "code",
   "execution_count": 50,
   "id": "695b3551",
   "metadata": {},
   "outputs": [
    {
     "data": {
      "text/plain": [
       "0      2017-02-27\n",
       "1      2017-02-28\n",
       "2      2017-03-01\n",
       "3      2017-03-02\n",
       "4      2017-03-03\n",
       "          ...    \n",
       "1255   2022-02-18\n",
       "1256   2022-02-22\n",
       "1257   2022-02-23\n",
       "1258   2022-02-24\n",
       "1259   2022-02-25\n",
       "Name: Date, Length: 1260, dtype: datetime64[ns]"
      ]
     },
     "execution_count": 50,
     "metadata": {},
     "output_type": "execute_result"
    }
   ],
   "source": [
    "pd.to_datetime(df_tesla['Date'])"
   ]
  },
  {
   "cell_type": "code",
   "execution_count": 54,
   "id": "ef219769",
   "metadata": {},
   "outputs": [],
   "source": [
    "df_tesla=df_tesla.set_index('Date',drop=True)"
   ]
  },
  {
   "cell_type": "code",
   "execution_count": 55,
   "id": "6bf5301e",
   "metadata": {},
   "outputs": [
    {
     "data": {
      "text/html": [
       "<div>\n",
       "<style scoped>\n",
       "    .dataframe tbody tr th:only-of-type {\n",
       "        vertical-align: middle;\n",
       "    }\n",
       "\n",
       "    .dataframe tbody tr th {\n",
       "        vertical-align: top;\n",
       "    }\n",
       "\n",
       "    .dataframe thead th {\n",
       "        text-align: right;\n",
       "    }\n",
       "</style>\n",
       "<table border=\"1\" class=\"dataframe\">\n",
       "  <thead>\n",
       "    <tr style=\"text-align: right;\">\n",
       "      <th></th>\n",
       "      <th>High</th>\n",
       "      <th>Low</th>\n",
       "      <th>Open</th>\n",
       "      <th>Close</th>\n",
       "      <th>Volume</th>\n",
       "      <th>Adj Close</th>\n",
       "    </tr>\n",
       "    <tr>\n",
       "      <th>Date</th>\n",
       "      <th></th>\n",
       "      <th></th>\n",
       "      <th></th>\n",
       "      <th></th>\n",
       "      <th></th>\n",
       "      <th></th>\n",
       "    </tr>\n",
       "  </thead>\n",
       "  <tbody>\n",
       "    <tr>\n",
       "      <th>2017-02-27</th>\n",
       "      <td>49.672001</td>\n",
       "      <td>48.402000</td>\n",
       "      <td>49.633999</td>\n",
       "      <td>49.245998</td>\n",
       "      <td>57304000.0</td>\n",
       "      <td>49.245998</td>\n",
       "    </tr>\n",
       "    <tr>\n",
       "      <th>2017-02-28</th>\n",
       "      <td>50.200001</td>\n",
       "      <td>48.779999</td>\n",
       "      <td>48.838001</td>\n",
       "      <td>49.998001</td>\n",
       "      <td>30390500.0</td>\n",
       "      <td>49.998001</td>\n",
       "    </tr>\n",
       "    <tr>\n",
       "      <th>2017-03-01</th>\n",
       "      <td>50.970001</td>\n",
       "      <td>49.821999</td>\n",
       "      <td>50.835999</td>\n",
       "      <td>50.004002</td>\n",
       "      <td>24047500.0</td>\n",
       "      <td>50.004002</td>\n",
       "    </tr>\n",
       "    <tr>\n",
       "      <th>2017-03-02</th>\n",
       "      <td>50.655998</td>\n",
       "      <td>49.653999</td>\n",
       "      <td>49.942001</td>\n",
       "      <td>50.096001</td>\n",
       "      <td>16759000.0</td>\n",
       "      <td>50.096001</td>\n",
       "    </tr>\n",
       "    <tr>\n",
       "      <th>2017-03-03</th>\n",
       "      <td>50.380001</td>\n",
       "      <td>49.799999</td>\n",
       "      <td>50.147999</td>\n",
       "      <td>50.313999</td>\n",
       "      <td>14597000.0</td>\n",
       "      <td>50.313999</td>\n",
       "    </tr>\n",
       "    <tr>\n",
       "      <th>...</th>\n",
       "      <td>...</td>\n",
       "      <td>...</td>\n",
       "      <td>...</td>\n",
       "      <td>...</td>\n",
       "      <td>...</td>\n",
       "      <td>...</td>\n",
       "    </tr>\n",
       "    <tr>\n",
       "      <th>2022-02-18</th>\n",
       "      <td>886.869995</td>\n",
       "      <td>837.609985</td>\n",
       "      <td>886.000000</td>\n",
       "      <td>856.979980</td>\n",
       "      <td>22710500.0</td>\n",
       "      <td>856.979980</td>\n",
       "    </tr>\n",
       "    <tr>\n",
       "      <th>2022-02-22</th>\n",
       "      <td>856.729980</td>\n",
       "      <td>801.099976</td>\n",
       "      <td>834.130005</td>\n",
       "      <td>821.530029</td>\n",
       "      <td>27762700.0</td>\n",
       "      <td>821.530029</td>\n",
       "    </tr>\n",
       "    <tr>\n",
       "      <th>2022-02-23</th>\n",
       "      <td>835.299988</td>\n",
       "      <td>760.559998</td>\n",
       "      <td>830.429993</td>\n",
       "      <td>764.039978</td>\n",
       "      <td>31752300.0</td>\n",
       "      <td>764.039978</td>\n",
       "    </tr>\n",
       "    <tr>\n",
       "      <th>2022-02-24</th>\n",
       "      <td>802.479980</td>\n",
       "      <td>700.000000</td>\n",
       "      <td>700.390015</td>\n",
       "      <td>800.770020</td>\n",
       "      <td>44876700.0</td>\n",
       "      <td>800.770020</td>\n",
       "    </tr>\n",
       "    <tr>\n",
       "      <th>2022-02-25</th>\n",
       "      <td>819.460815</td>\n",
       "      <td>782.400513</td>\n",
       "      <td>809.229980</td>\n",
       "      <td>814.400024</td>\n",
       "      <td>14563554.0</td>\n",
       "      <td>814.400024</td>\n",
       "    </tr>\n",
       "  </tbody>\n",
       "</table>\n",
       "<p>1260 rows × 6 columns</p>\n",
       "</div>"
      ],
      "text/plain": [
       "                  High         Low        Open       Close      Volume  \\\n",
       "Date                                                                     \n",
       "2017-02-27   49.672001   48.402000   49.633999   49.245998  57304000.0   \n",
       "2017-02-28   50.200001   48.779999   48.838001   49.998001  30390500.0   \n",
       "2017-03-01   50.970001   49.821999   50.835999   50.004002  24047500.0   \n",
       "2017-03-02   50.655998   49.653999   49.942001   50.096001  16759000.0   \n",
       "2017-03-03   50.380001   49.799999   50.147999   50.313999  14597000.0   \n",
       "...                ...         ...         ...         ...         ...   \n",
       "2022-02-18  886.869995  837.609985  886.000000  856.979980  22710500.0   \n",
       "2022-02-22  856.729980  801.099976  834.130005  821.530029  27762700.0   \n",
       "2022-02-23  835.299988  760.559998  830.429993  764.039978  31752300.0   \n",
       "2022-02-24  802.479980  700.000000  700.390015  800.770020  44876700.0   \n",
       "2022-02-25  819.460815  782.400513  809.229980  814.400024  14563554.0   \n",
       "\n",
       "             Adj Close  \n",
       "Date                    \n",
       "2017-02-27   49.245998  \n",
       "2017-02-28   49.998001  \n",
       "2017-03-01   50.004002  \n",
       "2017-03-02   50.096001  \n",
       "2017-03-03   50.313999  \n",
       "...                ...  \n",
       "2022-02-18  856.979980  \n",
       "2022-02-22  821.530029  \n",
       "2022-02-23  764.039978  \n",
       "2022-02-24  800.770020  \n",
       "2022-02-25  814.400024  \n",
       "\n",
       "[1260 rows x 6 columns]"
      ]
     },
     "execution_count": 55,
     "metadata": {},
     "output_type": "execute_result"
    }
   ],
   "source": [
    "df_tesla"
   ]
  },
  {
   "cell_type": "code",
   "execution_count": 57,
   "id": "804811cd",
   "metadata": {},
   "outputs": [
    {
     "data": {
      "text/plain": [
       "datetime.datetime(2000, 11, 18, 0, 0)"
      ]
     },
     "execution_count": 57,
     "metadata": {},
     "output_type": "execute_result"
    }
   ],
   "source": [
    "datetime(2000,11,18)"
   ]
  },
  {
   "cell_type": "code",
   "execution_count": 63,
   "id": "e5286fe3",
   "metadata": {},
   "outputs": [
    {
     "data": {
      "text/plain": [
       "datetime.datetime(2022, 2, 25, 22, 49, 25, 927488)"
      ]
     },
     "execution_count": 63,
     "metadata": {},
     "output_type": "execute_result"
    }
   ],
   "source": [
    "## this will show current date and time\n",
    "datetime.now()"
   ]
  },
  {
   "cell_type": "code",
   "execution_count": 64,
   "id": "f367bc2f",
   "metadata": {},
   "outputs": [],
   "source": [
    "def add_num(num1,num2):\n",
    "    return num1+num2"
   ]
  },
  {
   "cell_type": "code",
   "execution_count": 73,
   "id": "ca517392",
   "metadata": {},
   "outputs": [
    {
     "name": "stdout",
     "output_type": "stream",
     "text": [
      "0:00:00\n"
     ]
    }
   ],
   "source": [
    "start_time=datetime.now()\n",
    "num1=20\n",
    "num2=30\n",
    "for i in [1,2,3,4,5]:\n",
    "    add_num(num1,num2)\n",
    "    end_time=datetime.now()\n",
    "print(end_time-start_time)"
   ]
  },
  {
   "cell_type": "code",
   "execution_count": 74,
   "id": "233390cd",
   "metadata": {},
   "outputs": [],
   "source": [
    "date=datetime(2021,11,21)"
   ]
  },
  {
   "cell_type": "code",
   "execution_count": 75,
   "id": "6b505380",
   "metadata": {},
   "outputs": [
    {
     "data": {
      "text/plain": [
       "datetime.datetime(2021, 11, 21, 0, 0)"
      ]
     },
     "execution_count": 75,
     "metadata": {},
     "output_type": "execute_result"
    }
   ],
   "source": [
    "date"
   ]
  },
  {
   "cell_type": "code",
   "execution_count": 76,
   "id": "bfd4d5e8",
   "metadata": {},
   "outputs": [
    {
     "data": {
      "text/plain": [
       "datetime.date(2021, 11, 21)"
      ]
     },
     "execution_count": 76,
     "metadata": {},
     "output_type": "execute_result"
    }
   ],
   "source": [
    "date.date()"
   ]
  },
  {
   "cell_type": "code",
   "execution_count": 77,
   "id": "2a0aeaaa",
   "metadata": {},
   "outputs": [
    {
     "data": {
      "text/plain": [
       "21"
      ]
     },
     "execution_count": 77,
     "metadata": {},
     "output_type": "execute_result"
    }
   ],
   "source": [
    "date.day"
   ]
  },
  {
   "cell_type": "code",
   "execution_count": 79,
   "id": "2ae5ba3a",
   "metadata": {},
   "outputs": [
    {
     "data": {
      "text/plain": [
       "6"
      ]
     },
     "execution_count": 79,
     "metadata": {},
     "output_type": "execute_result"
    }
   ],
   "source": [
    "date.weekday()"
   ]
  },
  {
   "cell_type": "code",
   "execution_count": 82,
   "id": "ee32c7dc",
   "metadata": {},
   "outputs": [
    {
     "data": {
      "text/plain": [
       "0"
      ]
     },
     "execution_count": 82,
     "metadata": {},
     "output_type": "execute_result"
    }
   ],
   "source": [
    "date.second"
   ]
  },
  {
   "cell_type": "code",
   "execution_count": 85,
   "id": "4b9b1007",
   "metadata": {},
   "outputs": [
    {
     "data": {
      "text/plain": [
       "0"
      ]
     },
     "execution_count": 85,
     "metadata": {},
     "output_type": "execute_result"
    }
   ],
   "source": [
    "date.hour"
   ]
  },
  {
   "cell_type": "markdown",
   "id": "870defe4",
   "metadata": {},
   "source": [
    "## Time resampling"
   ]
  },
  {
   "cell_type": "code",
   "execution_count": 86,
   "id": "a3c12b93",
   "metadata": {},
   "outputs": [
    {
     "data": {
      "text/html": [
       "<div>\n",
       "<style scoped>\n",
       "    .dataframe tbody tr th:only-of-type {\n",
       "        vertical-align: middle;\n",
       "    }\n",
       "\n",
       "    .dataframe tbody tr th {\n",
       "        vertical-align: top;\n",
       "    }\n",
       "\n",
       "    .dataframe thead th {\n",
       "        text-align: right;\n",
       "    }\n",
       "</style>\n",
       "<table border=\"1\" class=\"dataframe\">\n",
       "  <thead>\n",
       "    <tr style=\"text-align: right;\">\n",
       "      <th></th>\n",
       "      <th>High</th>\n",
       "      <th>Low</th>\n",
       "      <th>Open</th>\n",
       "      <th>Close</th>\n",
       "      <th>Volume</th>\n",
       "      <th>Adj Close</th>\n",
       "    </tr>\n",
       "    <tr>\n",
       "      <th>Date</th>\n",
       "      <th></th>\n",
       "      <th></th>\n",
       "      <th></th>\n",
       "      <th></th>\n",
       "      <th></th>\n",
       "      <th></th>\n",
       "    </tr>\n",
       "  </thead>\n",
       "  <tbody>\n",
       "    <tr>\n",
       "      <th>2017-02-27</th>\n",
       "      <td>49.672001</td>\n",
       "      <td>48.402</td>\n",
       "      <td>49.633999</td>\n",
       "      <td>49.245998</td>\n",
       "      <td>57304000.0</td>\n",
       "      <td>49.245998</td>\n",
       "    </tr>\n",
       "  </tbody>\n",
       "</table>\n",
       "</div>"
      ],
      "text/plain": [
       "                 High     Low       Open      Close      Volume  Adj Close\n",
       "Date                                                                      \n",
       "2017-02-27  49.672001  48.402  49.633999  49.245998  57304000.0  49.245998"
      ]
     },
     "execution_count": 86,
     "metadata": {},
     "output_type": "execute_result"
    }
   ],
   "source": [
    "df_tesla.head(1)"
   ]
  },
  {
   "cell_type": "code",
   "execution_count": 89,
   "id": "99900ff2",
   "metadata": {},
   "outputs": [
    {
     "data": {
      "text/html": [
       "<div>\n",
       "<style scoped>\n",
       "    .dataframe tbody tr th:only-of-type {\n",
       "        vertical-align: middle;\n",
       "    }\n",
       "\n",
       "    .dataframe tbody tr th {\n",
       "        vertical-align: top;\n",
       "    }\n",
       "\n",
       "    .dataframe thead th {\n",
       "        text-align: right;\n",
       "    }\n",
       "</style>\n",
       "<table border=\"1\" class=\"dataframe\">\n",
       "  <thead>\n",
       "    <tr style=\"text-align: right;\">\n",
       "      <th></th>\n",
       "      <th>High</th>\n",
       "      <th>Low</th>\n",
       "      <th>Open</th>\n",
       "      <th>Close</th>\n",
       "      <th>Volume</th>\n",
       "      <th>Adj Close</th>\n",
       "    </tr>\n",
       "    <tr>\n",
       "      <th>Date</th>\n",
       "      <th></th>\n",
       "      <th></th>\n",
       "      <th></th>\n",
       "      <th></th>\n",
       "      <th></th>\n",
       "      <th></th>\n",
       "    </tr>\n",
       "  </thead>\n",
       "  <tbody>\n",
       "    <tr>\n",
       "      <th>2017-12-31</th>\n",
       "      <td>49.299999</td>\n",
       "      <td>48.402000</td>\n",
       "      <td>48.838001</td>\n",
       "      <td>48.737999</td>\n",
       "      <td>14597000.0</td>\n",
       "      <td>48.737999</td>\n",
       "    </tr>\n",
       "    <tr>\n",
       "      <th>2018-12-31</th>\n",
       "      <td>52.066002</td>\n",
       "      <td>48.917999</td>\n",
       "      <td>50.556000</td>\n",
       "      <td>50.112000</td>\n",
       "      <td>15403500.0</td>\n",
       "      <td>50.112000</td>\n",
       "    </tr>\n",
       "    <tr>\n",
       "      <th>2019-12-31</th>\n",
       "      <td>37.335999</td>\n",
       "      <td>35.397999</td>\n",
       "      <td>36.220001</td>\n",
       "      <td>35.793999</td>\n",
       "      <td>12328000.0</td>\n",
       "      <td>35.793999</td>\n",
       "    </tr>\n",
       "    <tr>\n",
       "      <th>2020-12-31</th>\n",
       "      <td>80.972000</td>\n",
       "      <td>70.101997</td>\n",
       "      <td>74.940002</td>\n",
       "      <td>72.244003</td>\n",
       "      <td>17357700.0</td>\n",
       "      <td>72.244003</td>\n",
       "    </tr>\n",
       "    <tr>\n",
       "      <th>2021-12-31</th>\n",
       "      <td>566.210022</td>\n",
       "      <td>539.489990</td>\n",
       "      <td>552.549988</td>\n",
       "      <td>563.000000</td>\n",
       "      <td>9800600.0</td>\n",
       "      <td>563.000000</td>\n",
       "    </tr>\n",
       "    <tr>\n",
       "      <th>2022-12-31</th>\n",
       "      <td>802.479980</td>\n",
       "      <td>700.000000</td>\n",
       "      <td>700.390015</td>\n",
       "      <td>764.039978</td>\n",
       "      <td>14563554.0</td>\n",
       "      <td>764.039978</td>\n",
       "    </tr>\n",
       "  </tbody>\n",
       "</table>\n",
       "</div>"
      ],
      "text/plain": [
       "                  High         Low        Open       Close      Volume  \\\n",
       "Date                                                                     \n",
       "2017-12-31   49.299999   48.402000   48.838001   48.737999  14597000.0   \n",
       "2018-12-31   52.066002   48.917999   50.556000   50.112000  15403500.0   \n",
       "2019-12-31   37.335999   35.397999   36.220001   35.793999  12328000.0   \n",
       "2020-12-31   80.972000   70.101997   74.940002   72.244003  17357700.0   \n",
       "2021-12-31  566.210022  539.489990  552.549988  563.000000   9800600.0   \n",
       "2022-12-31  802.479980  700.000000  700.390015  764.039978  14563554.0   \n",
       "\n",
       "             Adj Close  \n",
       "Date                    \n",
       "2017-12-31   48.737999  \n",
       "2018-12-31   50.112000  \n",
       "2019-12-31   35.793999  \n",
       "2020-12-31   72.244003  \n",
       "2021-12-31  563.000000  \n",
       "2022-12-31  764.039978  "
      ]
     },
     "execution_count": 89,
     "metadata": {},
     "output_type": "execute_result"
    }
   ],
   "source": [
    "df_tesla.resample(rule=\"A\").min()"
   ]
  },
  {
   "cell_type": "code",
   "execution_count": 91,
   "id": "948e3acc",
   "metadata": {},
   "outputs": [
    {
     "data": {
      "text/html": [
       "<div>\n",
       "<style scoped>\n",
       "    .dataframe tbody tr th:only-of-type {\n",
       "        vertical-align: middle;\n",
       "    }\n",
       "\n",
       "    .dataframe tbody tr th {\n",
       "        vertical-align: top;\n",
       "    }\n",
       "\n",
       "    .dataframe thead th {\n",
       "        text-align: right;\n",
       "    }\n",
       "</style>\n",
       "<table border=\"1\" class=\"dataframe\">\n",
       "  <thead>\n",
       "    <tr style=\"text-align: right;\">\n",
       "      <th></th>\n",
       "      <th>High</th>\n",
       "      <th>Low</th>\n",
       "      <th>Open</th>\n",
       "      <th>Close</th>\n",
       "      <th>Volume</th>\n",
       "      <th>Adj Close</th>\n",
       "    </tr>\n",
       "    <tr>\n",
       "      <th>Date</th>\n",
       "      <th></th>\n",
       "      <th></th>\n",
       "      <th></th>\n",
       "      <th></th>\n",
       "      <th></th>\n",
       "      <th></th>\n",
       "    </tr>\n",
       "  </thead>\n",
       "  <tbody>\n",
       "    <tr>\n",
       "      <th>2017-12-31</th>\n",
       "      <td>77.921997</td>\n",
       "      <td>75.870003</td>\n",
       "      <td>77.337997</td>\n",
       "      <td>77.000000</td>\n",
       "      <td>98957000.0</td>\n",
       "      <td>77.000000</td>\n",
       "    </tr>\n",
       "    <tr>\n",
       "      <th>2018-12-31</th>\n",
       "      <td>77.491997</td>\n",
       "      <td>73.424004</td>\n",
       "      <td>75.000000</td>\n",
       "      <td>75.914001</td>\n",
       "      <td>168248500.0</td>\n",
       "      <td>75.914001</td>\n",
       "    </tr>\n",
       "    <tr>\n",
       "      <th>2019-12-31</th>\n",
       "      <td>87.061996</td>\n",
       "      <td>85.269997</td>\n",
       "      <td>87.000000</td>\n",
       "      <td>86.188004</td>\n",
       "      <td>150030500.0</td>\n",
       "      <td>86.188004</td>\n",
       "    </tr>\n",
       "    <tr>\n",
       "      <th>2020-12-31</th>\n",
       "      <td>718.719971</td>\n",
       "      <td>691.119995</td>\n",
       "      <td>699.989990</td>\n",
       "      <td>705.669983</td>\n",
       "      <td>304694000.0</td>\n",
       "      <td>705.669983</td>\n",
       "    </tr>\n",
       "    <tr>\n",
       "      <th>2021-12-31</th>\n",
       "      <td>1243.489990</td>\n",
       "      <td>1217.000000</td>\n",
       "      <td>1234.410034</td>\n",
       "      <td>1229.910034</td>\n",
       "      <td>89396500.0</td>\n",
       "      <td>1229.910034</td>\n",
       "    </tr>\n",
       "    <tr>\n",
       "      <th>2022-12-31</th>\n",
       "      <td>1208.000000</td>\n",
       "      <td>1136.040039</td>\n",
       "      <td>1189.550049</td>\n",
       "      <td>1199.780029</td>\n",
       "      <td>50521900.0</td>\n",
       "      <td>1199.780029</td>\n",
       "    </tr>\n",
       "  </tbody>\n",
       "</table>\n",
       "</div>"
      ],
      "text/plain": [
       "                   High          Low         Open        Close       Volume  \\\n",
       "Date                                                                          \n",
       "2017-12-31    77.921997    75.870003    77.337997    77.000000   98957000.0   \n",
       "2018-12-31    77.491997    73.424004    75.000000    75.914001  168248500.0   \n",
       "2019-12-31    87.061996    85.269997    87.000000    86.188004  150030500.0   \n",
       "2020-12-31   718.719971   691.119995   699.989990   705.669983  304694000.0   \n",
       "2021-12-31  1243.489990  1217.000000  1234.410034  1229.910034   89396500.0   \n",
       "2022-12-31  1208.000000  1136.040039  1189.550049  1199.780029   50521900.0   \n",
       "\n",
       "              Adj Close  \n",
       "Date                     \n",
       "2017-12-31    77.000000  \n",
       "2018-12-31    75.914001  \n",
       "2019-12-31    86.188004  \n",
       "2020-12-31   705.669983  \n",
       "2021-12-31  1229.910034  \n",
       "2022-12-31  1199.780029  "
      ]
     },
     "execution_count": 91,
     "metadata": {},
     "output_type": "execute_result"
    }
   ],
   "source": [
    "df_tesla.resample(rule=\"A\").max()"
   ]
  },
  {
   "cell_type": "code",
   "execution_count": 92,
   "id": "e5882496",
   "metadata": {},
   "outputs": [
    {
     "data": {
      "text/plain": [
       "<AxesSubplot:xlabel='Date'>"
      ]
     },
     "execution_count": 92,
     "metadata": {},
     "output_type": "execute_result"
    },
    {
     "data": {
      "image/png": "[encoded data removed]",
      "text/plain": [
       "<Figure size 432x288 with 1 Axes>"
      ]
     },
     "metadata": {
      "needs_background": "light"
     },
     "output_type": "display_data"
    }
   ],
   "source": [
    "## Rule \"A\" means year end frequency\n",
    "df_tesla.resample(rule=\"A\").max()['Open'].plot()"
   ]
  },
  {
   "cell_type": "code",
   "execution_count": 96,
   "id": "fc75ca66",
   "metadata": {},
   "outputs": [
    {
     "data": {
      "text/plain": [
       "<AxesSubplot:xlabel='Date'>"
      ]
     },
     "execution_count": 96,
     "metadata": {},
     "output_type": "execute_result"
    },
    {
     "data": {
      "image/png": "[encoded data removed]",
      "text/plain": [
       "<Figure size 432x288 with 1 Axes>"
      ]
     },
     "metadata": {
      "needs_background": "light"
     },
     "output_type": "display_data"
    }
   ],
   "source": [
    "## if i want quaterly values frequency\n",
    "df_tesla.resample(rule=\"QS\").max()[\"High\"].plot()"
   ]
  },
  {
   "cell_type": "code",
   "execution_count": 97,
   "id": "3d260718",
   "metadata": {},
   "outputs": [
    {
     "data": {
      "text/html": [
       "<div>\n",
       "<style scoped>\n",
       "    .dataframe tbody tr th:only-of-type {\n",
       "        vertical-align: middle;\n",
       "    }\n",
       "\n",
       "    .dataframe tbody tr th {\n",
       "        vertical-align: top;\n",
       "    }\n",
       "\n",
       "    .dataframe thead th {\n",
       "        text-align: right;\n",
       "    }\n",
       "</style>\n",
       "<table border=\"1\" class=\"dataframe\">\n",
       "  <thead>\n",
       "    <tr style=\"text-align: right;\">\n",
       "      <th></th>\n",
       "      <th>High</th>\n",
       "      <th>Low</th>\n",
       "      <th>Open</th>\n",
       "      <th>Close</th>\n",
       "      <th>Volume</th>\n",
       "      <th>Adj Close</th>\n",
       "    </tr>\n",
       "    <tr>\n",
       "      <th>Date</th>\n",
       "      <th></th>\n",
       "      <th></th>\n",
       "      <th></th>\n",
       "      <th></th>\n",
       "      <th></th>\n",
       "      <th></th>\n",
       "    </tr>\n",
       "  </thead>\n",
       "  <tbody>\n",
       "    <tr>\n",
       "      <th>2017-12-29</th>\n",
       "      <td>77.921997</td>\n",
       "      <td>75.870003</td>\n",
       "      <td>77.337997</td>\n",
       "      <td>77.000000</td>\n",
       "      <td>98957000.0</td>\n",
       "      <td>77.000000</td>\n",
       "    </tr>\n",
       "    <tr>\n",
       "      <th>2018-12-31</th>\n",
       "      <td>77.491997</td>\n",
       "      <td>73.424004</td>\n",
       "      <td>75.000000</td>\n",
       "      <td>75.914001</td>\n",
       "      <td>168248500.0</td>\n",
       "      <td>75.914001</td>\n",
       "    </tr>\n",
       "    <tr>\n",
       "      <th>2019-12-31</th>\n",
       "      <td>87.061996</td>\n",
       "      <td>85.269997</td>\n",
       "      <td>87.000000</td>\n",
       "      <td>86.188004</td>\n",
       "      <td>150030500.0</td>\n",
       "      <td>86.188004</td>\n",
       "    </tr>\n",
       "    <tr>\n",
       "      <th>2020-12-31</th>\n",
       "      <td>718.719971</td>\n",
       "      <td>691.119995</td>\n",
       "      <td>699.989990</td>\n",
       "      <td>705.669983</td>\n",
       "      <td>304694000.0</td>\n",
       "      <td>705.669983</td>\n",
       "    </tr>\n",
       "    <tr>\n",
       "      <th>2021-12-31</th>\n",
       "      <td>1243.489990</td>\n",
       "      <td>1217.000000</td>\n",
       "      <td>1234.410034</td>\n",
       "      <td>1229.910034</td>\n",
       "      <td>89396500.0</td>\n",
       "      <td>1229.910034</td>\n",
       "    </tr>\n",
       "    <tr>\n",
       "      <th>2022-12-30</th>\n",
       "      <td>1208.000000</td>\n",
       "      <td>1136.040039</td>\n",
       "      <td>1189.550049</td>\n",
       "      <td>1199.780029</td>\n",
       "      <td>50521900.0</td>\n",
       "      <td>1199.780029</td>\n",
       "    </tr>\n",
       "  </tbody>\n",
       "</table>\n",
       "</div>"
      ],
      "text/plain": [
       "                   High          Low         Open        Close       Volume  \\\n",
       "Date                                                                          \n",
       "2017-12-29    77.921997    75.870003    77.337997    77.000000   98957000.0   \n",
       "2018-12-31    77.491997    73.424004    75.000000    75.914001  168248500.0   \n",
       "2019-12-31    87.061996    85.269997    87.000000    86.188004  150030500.0   \n",
       "2020-12-31   718.719971   691.119995   699.989990   705.669983  304694000.0   \n",
       "2021-12-31  1243.489990  1217.000000  1234.410034  1229.910034   89396500.0   \n",
       "2022-12-30  1208.000000  1136.040039  1189.550049  1199.780029   50521900.0   \n",
       "\n",
       "              Adj Close  \n",
       "Date                     \n",
       "2017-12-29    77.000000  \n",
       "2018-12-31    75.914001  \n",
       "2019-12-31    86.188004  \n",
       "2020-12-31   705.669983  \n",
       "2021-12-31  1229.910034  \n",
       "2022-12-30  1199.780029  "
      ]
     },
     "execution_count": 97,
     "metadata": {},
     "output_type": "execute_result"
    }
   ],
   "source": [
    "## business End Ferquency\n",
    "df_tesla.resample(rule=\"BA\").max()"
   ]
  },
  {
   "cell_type": "code",
   "execution_count": 98,
   "id": "8eb67d58",
   "metadata": {},
   "outputs": [
    {
     "data": {
      "text/plain": [
       "<AxesSubplot:xlabel='Date'>"
      ]
     },
     "execution_count": 98,
     "metadata": {},
     "output_type": "execute_result"
    },
    {
     "data": {
      "image/png": "[encoded data removed]",
      "text/plain": [
       "<Figure size 432x288 with 1 Axes>"
      ]
     },
     "metadata": {
      "needs_background": "light"
     },
     "output_type": "display_data"
    }
   ],
   "source": [
    "df_tesla.resample(rule=\"BA\").max()[\"High\"].plot()"
   ]
  },
  {
   "cell_type": "code",
   "execution_count": 101,
   "id": "385233d6",
   "metadata": {},
   "outputs": [
    {
     "data": {
      "text/html": [
       "<div>\n",
       "<style scoped>\n",
       "    .dataframe tbody tr th:only-of-type {\n",
       "        vertical-align: middle;\n",
       "    }\n",
       "\n",
       "    .dataframe tbody tr th {\n",
       "        vertical-align: top;\n",
       "    }\n",
       "\n",
       "    .dataframe thead th {\n",
       "        text-align: right;\n",
       "    }\n",
       "</style>\n",
       "<table border=\"1\" class=\"dataframe\">\n",
       "  <thead>\n",
       "    <tr style=\"text-align: right;\">\n",
       "      <th></th>\n",
       "      <th>High</th>\n",
       "      <th>Low</th>\n",
       "      <th>Open</th>\n",
       "      <th>Close</th>\n",
       "      <th>Volume</th>\n",
       "      <th>Adj Close</th>\n",
       "    </tr>\n",
       "    <tr>\n",
       "      <th>Date</th>\n",
       "      <th></th>\n",
       "      <th></th>\n",
       "      <th></th>\n",
       "      <th></th>\n",
       "      <th></th>\n",
       "      <th></th>\n",
       "    </tr>\n",
       "  </thead>\n",
       "  <tbody>\n",
       "    <tr>\n",
       "      <th>2017-01-02</th>\n",
       "      <td>56.400002</td>\n",
       "      <td>55.442001</td>\n",
       "      <td>55.745998</td>\n",
       "      <td>55.660000</td>\n",
       "      <td>57304000.0</td>\n",
       "      <td>55.660000</td>\n",
       "    </tr>\n",
       "    <tr>\n",
       "      <th>2017-04-03</th>\n",
       "      <td>77.398003</td>\n",
       "      <td>75.870003</td>\n",
       "      <td>77.337997</td>\n",
       "      <td>76.690002</td>\n",
       "      <td>86307000.0</td>\n",
       "      <td>76.690002</td>\n",
       "    </tr>\n",
       "    <tr>\n",
       "      <th>2017-07-03</th>\n",
       "      <td>77.921997</td>\n",
       "      <td>75.536003</td>\n",
       "      <td>76.050003</td>\n",
       "      <td>77.000000</td>\n",
       "      <td>96622500.0</td>\n",
       "      <td>77.000000</td>\n",
       "    </tr>\n",
       "    <tr>\n",
       "      <th>2017-10-02</th>\n",
       "      <td>72.599998</td>\n",
       "      <td>70.825996</td>\n",
       "      <td>71.396004</td>\n",
       "      <td>71.930000</td>\n",
       "      <td>98957000.0</td>\n",
       "      <td>71.930000</td>\n",
       "    </tr>\n",
       "    <tr>\n",
       "      <th>2018-01-01</th>\n",
       "      <td>72.099998</td>\n",
       "      <td>70.472000</td>\n",
       "      <td>72.000000</td>\n",
       "      <td>71.484001</td>\n",
       "      <td>105007000.0</td>\n",
       "      <td>71.484001</td>\n",
       "    </tr>\n",
       "    <tr>\n",
       "      <th>2018-04-02</th>\n",
       "      <td>74.746002</td>\n",
       "      <td>70.900002</td>\n",
       "      <td>73.031998</td>\n",
       "      <td>74.166000</td>\n",
       "      <td>111737000.0</td>\n",
       "      <td>74.166000</td>\n",
       "    </tr>\n",
       "    <tr>\n",
       "      <th>2018-07-02</th>\n",
       "      <td>77.491997</td>\n",
       "      <td>73.424004</td>\n",
       "      <td>73.818001</td>\n",
       "      <td>75.914001</td>\n",
       "      <td>168248500.0</td>\n",
       "      <td>75.914001</td>\n",
       "    </tr>\n",
       "    <tr>\n",
       "      <th>2018-10-01</th>\n",
       "      <td>75.898003</td>\n",
       "      <td>73.349998</td>\n",
       "      <td>75.000000</td>\n",
       "      <td>75.358002</td>\n",
       "      <td>137127500.0</td>\n",
       "      <td>75.358002</td>\n",
       "    </tr>\n",
       "    <tr>\n",
       "      <th>2019-01-01</th>\n",
       "      <td>70.400002</td>\n",
       "      <td>68.830002</td>\n",
       "      <td>69.241997</td>\n",
       "      <td>69.461998</td>\n",
       "      <td>120754000.0</td>\n",
       "      <td>69.461998</td>\n",
       "    </tr>\n",
       "    <tr>\n",
       "      <th>2019-04-01</th>\n",
       "      <td>59.234001</td>\n",
       "      <td>57.433998</td>\n",
       "      <td>57.660000</td>\n",
       "      <td>58.362000</td>\n",
       "      <td>132735500.0</td>\n",
       "      <td>58.362000</td>\n",
       "    </tr>\n",
       "    <tr>\n",
       "      <th>2019-07-01</th>\n",
       "      <td>53.214001</td>\n",
       "      <td>51.632000</td>\n",
       "      <td>51.834000</td>\n",
       "      <td>52.976002</td>\n",
       "      <td>112091500.0</td>\n",
       "      <td>52.976002</td>\n",
       "    </tr>\n",
       "    <tr>\n",
       "      <th>2019-10-01</th>\n",
       "      <td>87.061996</td>\n",
       "      <td>85.269997</td>\n",
       "      <td>87.000000</td>\n",
       "      <td>86.188004</td>\n",
       "      <td>150030500.0</td>\n",
       "      <td>86.188004</td>\n",
       "    </tr>\n",
       "    <tr>\n",
       "      <th>2020-01-01</th>\n",
       "      <td>193.798004</td>\n",
       "      <td>180.203995</td>\n",
       "      <td>184.699997</td>\n",
       "      <td>183.483994</td>\n",
       "      <td>304694000.0</td>\n",
       "      <td>183.483994</td>\n",
       "    </tr>\n",
       "    <tr>\n",
       "      <th>2020-04-01</th>\n",
       "      <td>217.537994</td>\n",
       "      <td>200.746002</td>\n",
       "      <td>202.556000</td>\n",
       "      <td>215.962006</td>\n",
       "      <td>162659000.0</td>\n",
       "      <td>215.962006</td>\n",
       "    </tr>\n",
       "    <tr>\n",
       "      <th>2020-07-01</th>\n",
       "      <td>502.489990</td>\n",
       "      <td>470.510010</td>\n",
       "      <td>502.140015</td>\n",
       "      <td>498.320007</td>\n",
       "      <td>194927000.0</td>\n",
       "      <td>498.320007</td>\n",
       "    </tr>\n",
       "    <tr>\n",
       "      <th>2020-10-01</th>\n",
       "      <td>718.719971</td>\n",
       "      <td>691.119995</td>\n",
       "      <td>699.989990</td>\n",
       "      <td>705.669983</td>\n",
       "      <td>222126200.0</td>\n",
       "      <td>705.669983</td>\n",
       "    </tr>\n",
       "    <tr>\n",
       "      <th>2021-01-01</th>\n",
       "      <td>900.400024</td>\n",
       "      <td>871.599976</td>\n",
       "      <td>891.380005</td>\n",
       "      <td>883.090027</td>\n",
       "      <td>89396500.0</td>\n",
       "      <td>883.090027</td>\n",
       "    </tr>\n",
       "    <tr>\n",
       "      <th>2021-04-01</th>\n",
       "      <td>780.789978</td>\n",
       "      <td>732.609985</td>\n",
       "      <td>770.700012</td>\n",
       "      <td>762.320007</td>\n",
       "      <td>49017400.0</td>\n",
       "      <td>762.320007</td>\n",
       "    </tr>\n",
       "    <tr>\n",
       "      <th>2021-07-01</th>\n",
       "      <td>799.000000</td>\n",
       "      <td>775.000000</td>\n",
       "      <td>787.200012</td>\n",
       "      <td>791.359985</td>\n",
       "      <td>33615800.0</td>\n",
       "      <td>791.359985</td>\n",
       "    </tr>\n",
       "    <tr>\n",
       "      <th>2021-10-01</th>\n",
       "      <td>1243.489990</td>\n",
       "      <td>1217.000000</td>\n",
       "      <td>1234.410034</td>\n",
       "      <td>1229.910034</td>\n",
       "      <td>62852100.0</td>\n",
       "      <td>1229.910034</td>\n",
       "    </tr>\n",
       "    <tr>\n",
       "      <th>2022-01-03</th>\n",
       "      <td>1208.000000</td>\n",
       "      <td>1136.040039</td>\n",
       "      <td>1189.550049</td>\n",
       "      <td>1199.780029</td>\n",
       "      <td>50521900.0</td>\n",
       "      <td>1199.780029</td>\n",
       "    </tr>\n",
       "  </tbody>\n",
       "</table>\n",
       "</div>"
      ],
      "text/plain": [
       "                   High          Low         Open        Close       Volume  \\\n",
       "Date                                                                          \n",
       "2017-01-02    56.400002    55.442001    55.745998    55.660000   57304000.0   \n",
       "2017-04-03    77.398003    75.870003    77.337997    76.690002   86307000.0   \n",
       "2017-07-03    77.921997    75.536003    76.050003    77.000000   96622500.0   \n",
       "2017-10-02    72.599998    70.825996    71.396004    71.930000   98957000.0   \n",
       "2018-01-01    72.099998    70.472000    72.000000    71.484001  105007000.0   \n",
       "2018-04-02    74.746002    70.900002    73.031998    74.166000  111737000.0   \n",
       "2018-07-02    77.491997    73.424004    73.818001    75.914001  168248500.0   \n",
       "2018-10-01    75.898003    73.349998    75.000000    75.358002  137127500.0   \n",
       "2019-01-01    70.400002    68.830002    69.241997    69.461998  120754000.0   \n",
       "2019-04-01    59.234001    57.433998    57.660000    58.362000  132735500.0   \n",
       "2019-07-01    53.214001    51.632000    51.834000    52.976002  112091500.0   \n",
       "2019-10-01    87.061996    85.269997    87.000000    86.188004  150030500.0   \n",
       "2020-01-01   193.798004   180.203995   184.699997   183.483994  304694000.0   \n",
       "2020-04-01   217.537994   200.746002   202.556000   215.962006  162659000.0   \n",
       "2020-07-01   502.489990   470.510010   502.140015   498.320007  194927000.0   \n",
       "2020-10-01   718.719971   691.119995   699.989990   705.669983  222126200.0   \n",
       "2021-01-01   900.400024   871.599976   891.380005   883.090027   89396500.0   \n",
       "2021-04-01   780.789978   732.609985   770.700012   762.320007   49017400.0   \n",
       "2021-07-01   799.000000   775.000000   787.200012   791.359985   33615800.0   \n",
       "2021-10-01  1243.489990  1217.000000  1234.410034  1229.910034   62852100.0   \n",
       "2022-01-03  1208.000000  1136.040039  1189.550049  1199.780029   50521900.0   \n",
       "\n",
       "              Adj Close  \n",
       "Date                     \n",
       "2017-01-02    55.660000  \n",
       "2017-04-03    76.690002  \n",
       "2017-07-03    77.000000  \n",
       "2017-10-02    71.930000  \n",
       "2018-01-01    71.484001  \n",
       "2018-04-02    74.166000  \n",
       "2018-07-02    75.914001  \n",
       "2018-10-01    75.358002  \n",
       "2019-01-01    69.461998  \n",
       "2019-04-01    58.362000  \n",
       "2019-07-01    52.976002  \n",
       "2019-10-01    86.188004  \n",
       "2020-01-01   183.483994  \n",
       "2020-04-01   215.962006  \n",
       "2020-07-01   498.320007  \n",
       "2020-10-01   705.669983  \n",
       "2021-01-01   883.090027  \n",
       "2021-04-01   762.320007  \n",
       "2021-07-01   791.359985  \n",
       "2021-10-01  1229.910034  \n",
       "2022-01-03  1199.780029  "
      ]
     },
     "execution_count": 101,
     "metadata": {},
     "output_type": "execute_result"
    }
   ],
   "source": [
    "df_tesla.resample(rule=\"BQS\").max()"
   ]
  },
  {
   "cell_type": "code",
   "execution_count": 106,
   "id": "6de272b8",
   "metadata": {},
   "outputs": [
    {
     "data": {
      "text/plain": [
       "<AxesSubplot:xlabel='Date'>"
      ]
     },
     "execution_count": 106,
     "metadata": {},
     "output_type": "execute_result"
    },
    {
     "data": {
      "image/png": "[encoded data removed]",
      "text/plain": [
       "<Figure size 432x288 with 1 Axes>"
      ]
     },
     "metadata": {
      "needs_background": "light"
     },
     "output_type": "display_data"
    }
   ],
   "source": [
    "## ploting\n",
    "df_tesla[\"Open\"].resample(rule=\"BA\").mean().plot(kind=\"bar\")"
   ]
  },
  {
   "cell_type": "code",
   "execution_count": 107,
   "id": "95894bb3",
   "metadata": {},
   "outputs": [
    {
     "data": {
      "text/plain": [
       "Date\n",
       "2017-02-28      49.633999\n",
       "2017-03-31      55.745998\n",
       "2017-04-30      62.675999\n",
       "2017-05-31      67.538002\n",
       "2017-06-30      77.337997\n",
       "                 ...     \n",
       "2021-10-31    1081.859985\n",
       "2021-11-30    1234.410034\n",
       "2021-12-31    1160.699951\n",
       "2022-01-31    1189.550049\n",
       "2022-02-28     935.210022\n",
       "Freq: M, Name: Open, Length: 61, dtype: float64"
      ]
     },
     "execution_count": 107,
     "metadata": {},
     "output_type": "execute_result"
    }
   ],
   "source": [
    "## M means monthly\n",
    "df_tesla[\"Open\"].resample(rule=\"M\").max()"
   ]
  },
  {
   "cell_type": "code",
   "execution_count": 110,
   "id": "286e2a7b",
   "metadata": {},
   "outputs": [
    {
     "data": {
      "text/plain": [
       "<AxesSubplot:xlabel='Date'>"
      ]
     },
     "execution_count": 110,
     "metadata": {},
     "output_type": "execute_result"
    },
    {
     "data": {
      "image/png": "[encoded data removed]",
      "text/plain": [
       "<Figure size 1080x576 with 1 Axes>"
      ]
     },
     "metadata": {
      "needs_background": "light"
     },
     "output_type": "display_data"
    }
   ],
   "source": [
    "df_tesla[\"Open\"].resample(rule=\"M\").max().plot(kind='bar',figsize=(15,8))"
   ]
  },
  {
   "cell_type": "code",
   "execution_count": 111,
   "id": "614879c7",
   "metadata": {},
   "outputs": [
    {
     "data": {
      "text/plain": [
       "<AxesSubplot:xlabel='Date'>"
      ]
     },
     "execution_count": 111,
     "metadata": {},
     "output_type": "execute_result"
    },
    {
     "data": {
      "image/png": "[encoded data removed]",
      "text/plain": [
       "<Figure size 1080x576 with 1 Axes>"
      ]
     },
     "metadata": {
      "needs_background": "light"
     },
     "output_type": "display_data"
    }
   ],
   "source": [
    "df_tesla[\"Close\"].resample(rule=\"M\").max().plot(kind='bar',figsize=(15,8))"
   ]
  },
  {
   "cell_type": "code",
   "execution_count": 115,
   "id": "222ce4d7",
   "metadata": {},
   "outputs": [
    {
     "data": {
      "text/plain": [
       "Date\n",
       "2017-02-27           NaN\n",
       "2017-02-28           NaN\n",
       "2017-03-01           NaN\n",
       "2017-03-02           NaN\n",
       "2017-03-03           NaN\n",
       "                 ...    \n",
       "2022-02-18    924.570912\n",
       "2022-02-22    917.319092\n",
       "2022-02-23    907.094543\n",
       "2022-02-24    895.839089\n",
       "2022-02-25    884.310980\n",
       "Name: High, Length: 1260, dtype: float64"
      ]
     },
     "execution_count": 115,
     "metadata": {},
     "output_type": "execute_result"
    }
   ],
   "source": [
    "df_tesla['High'].rolling(11).mean()"
   ]
  },
  {
   "cell_type": "code",
   "execution_count": 116,
   "id": "dbc51886",
   "metadata": {},
   "outputs": [
    {
     "data": {
      "text/html": [
       "<div>\n",
       "<style scoped>\n",
       "    .dataframe tbody tr th:only-of-type {\n",
       "        vertical-align: middle;\n",
       "    }\n",
       "\n",
       "    .dataframe tbody tr th {\n",
       "        vertical-align: top;\n",
       "    }\n",
       "\n",
       "    .dataframe thead th {\n",
       "        text-align: right;\n",
       "    }\n",
       "</style>\n",
       "<table border=\"1\" class=\"dataframe\">\n",
       "  <thead>\n",
       "    <tr style=\"text-align: right;\">\n",
       "      <th></th>\n",
       "      <th>Date</th>\n",
       "      <th>High</th>\n",
       "    </tr>\n",
       "  </thead>\n",
       "  <tbody>\n",
       "    <tr>\n",
       "      <th>0</th>\n",
       "      <td>2017-02-27</td>\n",
       "      <td>NaN</td>\n",
       "    </tr>\n",
       "    <tr>\n",
       "      <th>1</th>\n",
       "      <td>2017-02-28</td>\n",
       "      <td>NaN</td>\n",
       "    </tr>\n",
       "    <tr>\n",
       "      <th>2</th>\n",
       "      <td>2017-03-01</td>\n",
       "      <td>NaN</td>\n",
       "    </tr>\n",
       "    <tr>\n",
       "      <th>3</th>\n",
       "      <td>2017-03-02</td>\n",
       "      <td>NaN</td>\n",
       "    </tr>\n",
       "    <tr>\n",
       "      <th>4</th>\n",
       "      <td>2017-03-03</td>\n",
       "      <td>NaN</td>\n",
       "    </tr>\n",
       "    <tr>\n",
       "      <th>5</th>\n",
       "      <td>2017-03-06</td>\n",
       "      <td>NaN</td>\n",
       "    </tr>\n",
       "    <tr>\n",
       "      <th>6</th>\n",
       "      <td>2017-03-07</td>\n",
       "      <td>NaN</td>\n",
       "    </tr>\n",
       "    <tr>\n",
       "      <th>7</th>\n",
       "      <td>2017-03-08</td>\n",
       "      <td>NaN</td>\n",
       "    </tr>\n",
       "    <tr>\n",
       "      <th>8</th>\n",
       "      <td>2017-03-09</td>\n",
       "      <td>NaN</td>\n",
       "    </tr>\n",
       "    <tr>\n",
       "      <th>9</th>\n",
       "      <td>2017-03-10</td>\n",
       "      <td>NaN</td>\n",
       "    </tr>\n",
       "    <tr>\n",
       "      <th>10</th>\n",
       "      <td>2017-03-13</td>\n",
       "      <td>49.299999</td>\n",
       "    </tr>\n",
       "    <tr>\n",
       "      <th>11</th>\n",
       "      <td>2017-03-14</td>\n",
       "      <td>49.299999</td>\n",
       "    </tr>\n",
       "    <tr>\n",
       "      <th>12</th>\n",
       "      <td>2017-03-15</td>\n",
       "      <td>49.299999</td>\n",
       "    </tr>\n",
       "    <tr>\n",
       "      <th>13</th>\n",
       "      <td>2017-03-16</td>\n",
       "      <td>49.299999</td>\n",
       "    </tr>\n",
       "    <tr>\n",
       "      <th>14</th>\n",
       "      <td>2017-03-17</td>\n",
       "      <td>49.299999</td>\n",
       "    </tr>\n",
       "    <tr>\n",
       "      <th>15</th>\n",
       "      <td>2017-03-20</td>\n",
       "      <td>49.299999</td>\n",
       "    </tr>\n",
       "    <tr>\n",
       "      <th>16</th>\n",
       "      <td>2017-03-21</td>\n",
       "      <td>49.299999</td>\n",
       "    </tr>\n",
       "    <tr>\n",
       "      <th>17</th>\n",
       "      <td>2017-03-22</td>\n",
       "      <td>49.299999</td>\n",
       "    </tr>\n",
       "    <tr>\n",
       "      <th>18</th>\n",
       "      <td>2017-03-23</td>\n",
       "      <td>49.299999</td>\n",
       "    </tr>\n",
       "    <tr>\n",
       "      <th>19</th>\n",
       "      <td>2017-03-24</td>\n",
       "      <td>49.299999</td>\n",
       "    </tr>\n",
       "  </tbody>\n",
       "</table>\n",
       "</div>"
      ],
      "text/plain": [
       "         Date       High\n",
       "0  2017-02-27        NaN\n",
       "1  2017-02-28        NaN\n",
       "2  2017-03-01        NaN\n",
       "3  2017-03-02        NaN\n",
       "4  2017-03-03        NaN\n",
       "5  2017-03-06        NaN\n",
       "6  2017-03-07        NaN\n",
       "7  2017-03-08        NaN\n",
       "8  2017-03-09        NaN\n",
       "9  2017-03-10        NaN\n",
       "10 2017-03-13  49.299999\n",
       "11 2017-03-14  49.299999\n",
       "12 2017-03-15  49.299999\n",
       "13 2017-03-16  49.299999\n",
       "14 2017-03-17  49.299999\n",
       "15 2017-03-20  49.299999\n",
       "16 2017-03-21  49.299999\n",
       "17 2017-03-22  49.299999\n",
       "18 2017-03-23  49.299999\n",
       "19 2017-03-24  49.299999"
      ]
     },
     "execution_count": 116,
     "metadata": {},
     "output_type": "execute_result"
    }
   ],
   "source": [
    "df_tesla['High'].rolling(11).min().head(20).reset_index()"
   ]
  },
  {
   "cell_type": "code",
   "execution_count": 114,
   "id": "2f081edd",
   "metadata": {},
   "outputs": [
    {
     "data": {
      "text/plain": [
       "Date\n",
       "2017-02-27          NaN\n",
       "2017-02-28          NaN\n",
       "2017-03-01          NaN\n",
       "2017-03-02          NaN\n",
       "2017-03-03          NaN\n",
       "2017-03-06          NaN\n",
       "2017-03-07          NaN\n",
       "2017-03-08          NaN\n",
       "2017-03-09          NaN\n",
       "2017-03-10          NaN\n",
       "2017-03-13    50.970001\n",
       "2017-03-14    51.624001\n",
       "2017-03-15    52.200001\n",
       "2017-03-16    53.150002\n",
       "2017-03-17    53.150002\n",
       "2017-03-20    53.150002\n",
       "2017-03-21    53.150002\n",
       "2017-03-22    53.150002\n",
       "2017-03-23    53.150002\n",
       "2017-03-24    53.150002\n",
       "Name: High, dtype: float64"
      ]
     },
     "execution_count": 114,
     "metadata": {},
     "output_type": "execute_result"
    }
   ],
   "source": [
    "df_tesla['High'].rolling(11).max().head(20)"
   ]
  },
  {
   "cell_type": "code",
   "execution_count": 117,
   "id": "111d6fa8",
   "metadata": {},
   "outputs": [],
   "source": [
    "df_tesla['Open:30 days rolling']=df_tesla['Open'].rolling(30).mean()\n"
   ]
  },
  {
   "cell_type": "code",
   "execution_count": 118,
   "id": "a8e8f571",
   "metadata": {},
   "outputs": [
    {
     "data": {
      "text/html": [
       "<div>\n",
       "<style scoped>\n",
       "    .dataframe tbody tr th:only-of-type {\n",
       "        vertical-align: middle;\n",
       "    }\n",
       "\n",
       "    .dataframe tbody tr th {\n",
       "        vertical-align: top;\n",
       "    }\n",
       "\n",
       "    .dataframe thead th {\n",
       "        text-align: right;\n",
       "    }\n",
       "</style>\n",
       "<table border=\"1\" class=\"dataframe\">\n",
       "  <thead>\n",
       "    <tr style=\"text-align: right;\">\n",
       "      <th></th>\n",
       "      <th>High</th>\n",
       "      <th>Low</th>\n",
       "      <th>Open</th>\n",
       "      <th>Close</th>\n",
       "      <th>Volume</th>\n",
       "      <th>Adj Close</th>\n",
       "      <th>Open:30 days rolling</th>\n",
       "    </tr>\n",
       "    <tr>\n",
       "      <th>Date</th>\n",
       "      <th></th>\n",
       "      <th></th>\n",
       "      <th></th>\n",
       "      <th></th>\n",
       "      <th></th>\n",
       "      <th></th>\n",
       "      <th></th>\n",
       "    </tr>\n",
       "  </thead>\n",
       "  <tbody>\n",
       "    <tr>\n",
       "      <th>2017-02-27</th>\n",
       "      <td>49.672001</td>\n",
       "      <td>48.402000</td>\n",
       "      <td>49.633999</td>\n",
       "      <td>49.245998</td>\n",
       "      <td>57304000.0</td>\n",
       "      <td>49.245998</td>\n",
       "      <td>NaN</td>\n",
       "    </tr>\n",
       "    <tr>\n",
       "      <th>2017-02-28</th>\n",
       "      <td>50.200001</td>\n",
       "      <td>48.779999</td>\n",
       "      <td>48.838001</td>\n",
       "      <td>49.998001</td>\n",
       "      <td>30390500.0</td>\n",
       "      <td>49.998001</td>\n",
       "      <td>NaN</td>\n",
       "    </tr>\n",
       "    <tr>\n",
       "      <th>2017-03-01</th>\n",
       "      <td>50.970001</td>\n",
       "      <td>49.821999</td>\n",
       "      <td>50.835999</td>\n",
       "      <td>50.004002</td>\n",
       "      <td>24047500.0</td>\n",
       "      <td>50.004002</td>\n",
       "      <td>NaN</td>\n",
       "    </tr>\n",
       "    <tr>\n",
       "      <th>2017-03-02</th>\n",
       "      <td>50.655998</td>\n",
       "      <td>49.653999</td>\n",
       "      <td>49.942001</td>\n",
       "      <td>50.096001</td>\n",
       "      <td>16759000.0</td>\n",
       "      <td>50.096001</td>\n",
       "      <td>NaN</td>\n",
       "    </tr>\n",
       "    <tr>\n",
       "      <th>2017-03-03</th>\n",
       "      <td>50.380001</td>\n",
       "      <td>49.799999</td>\n",
       "      <td>50.147999</td>\n",
       "      <td>50.313999</td>\n",
       "      <td>14597000.0</td>\n",
       "      <td>50.313999</td>\n",
       "      <td>NaN</td>\n",
       "    </tr>\n",
       "    <tr>\n",
       "      <th>...</th>\n",
       "      <td>...</td>\n",
       "      <td>...</td>\n",
       "      <td>...</td>\n",
       "      <td>...</td>\n",
       "      <td>...</td>\n",
       "      <td>...</td>\n",
       "      <td>...</td>\n",
       "    </tr>\n",
       "    <tr>\n",
       "      <th>2022-02-18</th>\n",
       "      <td>886.869995</td>\n",
       "      <td>837.609985</td>\n",
       "      <td>886.000000</td>\n",
       "      <td>856.979980</td>\n",
       "      <td>22710500.0</td>\n",
       "      <td>856.979980</td>\n",
       "      <td>950.835331</td>\n",
       "    </tr>\n",
       "    <tr>\n",
       "      <th>2022-02-22</th>\n",
       "      <td>856.729980</td>\n",
       "      <td>801.099976</td>\n",
       "      <td>834.130005</td>\n",
       "      <td>821.530029</td>\n",
       "      <td>27762700.0</td>\n",
       "      <td>821.530029</td>\n",
       "      <td>942.627332</td>\n",
       "    </tr>\n",
       "    <tr>\n",
       "      <th>2022-02-23</th>\n",
       "      <td>835.299988</td>\n",
       "      <td>760.559998</td>\n",
       "      <td>830.429993</td>\n",
       "      <td>764.039978</td>\n",
       "      <td>31752300.0</td>\n",
       "      <td>764.039978</td>\n",
       "      <td>936.974998</td>\n",
       "    </tr>\n",
       "    <tr>\n",
       "      <th>2022-02-24</th>\n",
       "      <td>802.479980</td>\n",
       "      <td>700.000000</td>\n",
       "      <td>700.390015</td>\n",
       "      <td>800.770020</td>\n",
       "      <td>44876700.0</td>\n",
       "      <td>800.770020</td>\n",
       "      <td>925.198997</td>\n",
       "    </tr>\n",
       "    <tr>\n",
       "      <th>2022-02-25</th>\n",
       "      <td>819.460815</td>\n",
       "      <td>782.400513</td>\n",
       "      <td>809.229980</td>\n",
       "      <td>814.400024</td>\n",
       "      <td>14563554.0</td>\n",
       "      <td>814.400024</td>\n",
       "      <td>916.211664</td>\n",
       "    </tr>\n",
       "  </tbody>\n",
       "</table>\n",
       "<p>1260 rows × 7 columns</p>\n",
       "</div>"
      ],
      "text/plain": [
       "                  High         Low        Open       Close      Volume  \\\n",
       "Date                                                                     \n",
       "2017-02-27   49.672001   48.402000   49.633999   49.245998  57304000.0   \n",
       "2017-02-28   50.200001   48.779999   48.838001   49.998001  30390500.0   \n",
       "2017-03-01   50.970001   49.821999   50.835999   50.004002  24047500.0   \n",
       "2017-03-02   50.655998   49.653999   49.942001   50.096001  16759000.0   \n",
       "2017-03-03   50.380001   49.799999   50.147999   50.313999  14597000.0   \n",
       "...                ...         ...         ...         ...         ...   \n",
       "2022-02-18  886.869995  837.609985  886.000000  856.979980  22710500.0   \n",
       "2022-02-22  856.729980  801.099976  834.130005  821.530029  27762700.0   \n",
       "2022-02-23  835.299988  760.559998  830.429993  764.039978  31752300.0   \n",
       "2022-02-24  802.479980  700.000000  700.390015  800.770020  44876700.0   \n",
       "2022-02-25  819.460815  782.400513  809.229980  814.400024  14563554.0   \n",
       "\n",
       "             Adj Close  Open:30 days rolling  \n",
       "Date                                          \n",
       "2017-02-27   49.245998                   NaN  \n",
       "2017-02-28   49.998001                   NaN  \n",
       "2017-03-01   50.004002                   NaN  \n",
       "2017-03-02   50.096001                   NaN  \n",
       "2017-03-03   50.313999                   NaN  \n",
       "...                ...                   ...  \n",
       "2022-02-18  856.979980            950.835331  \n",
       "2022-02-22  821.530029            942.627332  \n",
       "2022-02-23  764.039978            936.974998  \n",
       "2022-02-24  800.770020            925.198997  \n",
       "2022-02-25  814.400024            916.211664  \n",
       "\n",
       "[1260 rows x 7 columns]"
      ]
     },
     "execution_count": 118,
     "metadata": {},
     "output_type": "execute_result"
    }
   ],
   "source": [
    "df_tesla"
   ]
  },
  {
   "cell_type": "code",
   "execution_count": 119,
   "id": "215a158c",
   "metadata": {},
   "outputs": [
    {
     "data": {
      "text/plain": [
       "<AxesSubplot:xlabel='Date'>"
      ]
     },
     "execution_count": 119,
     "metadata": {},
     "output_type": "execute_result"
    },
    {
     "data": {
      "image/png": "[encoded data removed]",
      "text/plain": [
       "<Figure size 864x360 with 1 Axes>"
      ]
     },
     "metadata": {
      "needs_background": "light"
     },
     "output_type": "display_data"
    }
   ],
   "source": [
    "df_tesla[['Open','Open:30 days rolling']].plot(figsize=(12,5))\n"
   ]
  },
  {
   "cell_type": "code",
   "execution_count": null,
   "id": "7903c3a3",
   "metadata": {},
   "outputs": [],
   "source": []
  }
 ],
 "metadata": {
  "kernelspec": {
   "display_name": "Python 3 (ipykernel)",
   "language": "python",
   "name": "python3"
  },
  "language_info": {
   "codemirror_mode": {
    "name": "ipython",
    "version": 3
   },
   "file_extension": ".py",
   "mimetype": "text/x-python",
   "name": "python",
   "nbconvert_exporter": "python",
   "pygments_lexer": "ipython3",
   "version": "3.9.7"
  }
 },
 "nbformat": 4,
 "nbformat_minor": 5
}
